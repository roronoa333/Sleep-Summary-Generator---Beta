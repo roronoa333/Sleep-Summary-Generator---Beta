{
 "cells": [
  {
   "cell_type": "code",
   "execution_count": 16,
   "id": "b339f1b8",
   "metadata": {},
   "outputs": [
    {
     "name": "stdout",
     "output_type": "stream",
     "text": [
      "Requirement already satisfied: psycopg2-binary in /Users/nripeshpokala/opt/anaconda3/lib/python3.9/site-packages (2.9.5)\n",
      "Note: you may need to restart the kernel to use updated packages.\n"
     ]
    }
   ],
   "source": [
    "pip install psycopg2-binary"
   ]
  },
  {
   "cell_type": "code",
   "execution_count": 255,
   "id": "3f8b3e8f",
   "metadata": {},
   "outputs": [
    {
     "name": "stdout",
     "output_type": "stream",
     "text": [
      "Opened Care.Life DB successfully\n",
      "Enter sensor_id : 003ED5\n",
      "America/Denver\n"
     ]
    }
   ],
   "source": [
    "import psycopg2\n",
    "import pandas as pd\n",
    "from datetime import timedelta, date\n",
    "from dateutil.parser import parse\n",
    "from IPython.display import display, HTML\n",
    "import careLifeSecrets\n",
    "\n",
    "def get_week_dates(base_date, start_day, end_day=None):\n",
    "    monday = base_date - timedelta(days=base_date.isoweekday() - 1)\n",
    "    week_dates = [monday + timedelta(days=i) for i in range(7)]\n",
    "    return week_dates[start_day - 1:end_day or start_day][0]\n",
    "\n",
    "weekStartDate = get_week_dates(date.today(), 1, 8)\n",
    "\n",
    "query = \"SELECT sensor_info FROM public.audit_emfit_info where sensor_id = 'insert_sensor_id' and info_type = '2' and action->>'action' = 'UPDATE' and sensor_time > 'insert_week_start_date' ORDER BY sensor_time DESC\"\n",
    "\n",
    "connection = psycopg2.connect(database = careLifeSecrets.DATABASE , user= careLifeSecrets.USER , password = careLifeSecrets.PG_PASSWORD[:-1] , host = careLifeSecrets.HOST, port = careLifeSecrets.PORT)\n",
    "print(\"Opened Care.Life DB successfully\")\n",
    "trimmedSleepData, tempDict = [],{}\n",
    "\n",
    "sensor_id = input(\"Enter sensor_id : \")\n",
    "\n",
    "query = query.replace(\"insert_sensor_id\", sensor_id)\n",
    "query = query.replace(\"insert_week_start_date\", str(weekStartDate))\n",
    "\n",
    "cursor1 = connection.cursor()\n",
    "cursor1.execute(query)\n",
    "rows = cursor1.fetchall()\n",
    "\n",
    "query2 = \"SELECT sensor_info FROM public.emfit_info where sensor_id = 'insert_sensor_id' and info_type = '2' ORDER BY sensor_time DESC;\"\n",
    "query2 = query2.replace(\"insert_sensor_id\", sensor_id)\n",
    "cursor2 = connection.cursor()\n",
    "cursor2.execute(query2)\n",
    "LatestSleep = cursor2.fetchall()\n",
    "\n",
    "rows.insert(0,LatestSleep[0])\n",
    "\n",
    "query3 = \"select time_zone from sensor_mapping where sensor_id =\" + \" sensor_id \" + \"limit 1;\"\n",
    "cursor3 = connection.cursor()\n",
    "cursor3.execute(query3)\n",
    "time_zone = cursor3.fetchall()[0][0]\n",
    "print(time_zone)"
   ]
  },
  {
   "cell_type": "code",
   "execution_count": 256,
   "id": "ca3acc53",
   "metadata": {},
   "outputs": [],
   "source": [
    "from pytz import timezone\n",
    "import datetime\n",
    "\n",
    "trimmedSleepData, tempDict = [],{}\n",
    "dataPointsToOmmit = ['hrv_data','sleep_score','id','device','bedexit_data','from_gmt_offset','avg_act','calc_data','sleep_data','tossnturn_data','hrv_rmssd_data','fm_data','hrv_hf','hrv_lf','fm_count','hrv_score','duration_in_rem','duration_in_light','duration_in_deep','duration_sleep_onset']      #Edit this list to choose what sensor data to ignore\n",
    "\n",
    "for row in rows:\n",
    "    for k,v in row[0].items():\n",
    "        if k not in dataPointsToOmmit:\n",
    "            if k == 'to' or k == 'from':\n",
    "                utcmoment = datetime.datetime.utcfromtimestamp(v).replace(tzinfo=pytz.utc)\n",
    "                tempDict[k] = utcmoment.astimezone(pytz.timezone(time_zone)).strftime('%Y-%m-%d %H:%M:%S')\n",
    "                if parse(tempDict[k]) <= datetime.datetime.now() - datetime.timedelta(days=6):\n",
    "                    tempDict = {}\n",
    "                    breakParsing = True\n",
    "                    break\n",
    "            elif k == 'duration_awake' or k == 'bedexit_duration' or k == 'duration_in_bed' or k == 'duration_in_sleep' or k == 'duration':\n",
    "                tempDict[k] = v\n",
    "            elif k == 'avg_hr':\n",
    "                tempDict['average heart rate'] = v\n",
    "            elif k == 'avg_rr':\n",
    "                tempDict['average respiration rate'] = v\n",
    "            elif k == 'min_hr':\n",
    "                tempDict['minimum heart rate'] = v\n",
    "            elif k == 'min_rr':\n",
    "                tempDict['minimum respiration rate'] = v\n",
    "            elif k == 'max_hr':\n",
    "                tempDict['maximum heart rate'] = v\n",
    "            elif k == 'bedexit_count':\n",
    "                tempDict['number of bed exits'] = v\n",
    "            elif k == 'max_rr':\n",
    "                tempDict['maximum respiration rate'] = v\n",
    "            elif k == 'bedexit_count':\n",
    "                tempDict['number of bed exits'] = v\n",
    "            else:\n",
    "                tempDict[k] = v\n",
    "    if tempDict not in trimmedSleepData:\n",
    "        trimmedSleepData.append(tempDict)\n",
    "    tempDict = {}"
   ]
  },
  {
   "cell_type": "code",
   "execution_count": 258,
   "id": "8e3de0eb",
   "metadata": {},
   "outputs": [
    {
     "data": {
      "text/plain": [
       "({'id': '64218981ef41ac2355a63a91',\n",
       "  'to': 1679919398,\n",
       "  'from': 1679895253,\n",
       "  'avg_hr': 68.8,\n",
       "  'avg_rr': 14.2,\n",
       "  'device': '003ED5',\n",
       "  'hrv_hf': 53,\n",
       "  'hrv_lf': 47,\n",
       "  'max_hr': 78,\n",
       "  'max_rr': 19,\n",
       "  'min_hr': 53,\n",
       "  'min_rr': 6,\n",
       "  'avg_act': 21.5,\n",
       "  'fm_data': '',\n",
       "  'duration': 24145,\n",
       "  'fm_count': 0,\n",
       "  'hrv_score': 27,\n",
       "  'awakenings': 2,\n",
       "  'sleep_score': 65,\n",
       "  'bedexit_count': 1,\n",
       "  'duration_awake': 2490,\n",
       "  'duration_in_bed': 24016,\n",
       "  'duration_in_rem': 5970,\n",
       "  'from_gmt_offset': 180,\n",
       "  'tossnturn_count': 11,\n",
       "  'bedexit_duration': 129,\n",
       "  'duration_in_deep': 3060,\n",
       "  'duration_in_light': 12630,\n",
       "  'duration_in_sleep': 21660,\n",
       "  'hrv_rmssd_evening': 14.5,\n",
       "  'hrv_rmssd_morning': 19,\n",
       "  'duration_sleep_onset': 750},)"
      ]
     },
     "metadata": {},
     "output_type": "display_data"
    }
   ],
   "source": [
    "display(LatestSleep[0])"
   ]
  },
  {
   "cell_type": "markdown",
   "id": "2286e6e5",
   "metadata": {},
   "source": [
    "# overlap Fix"
   ]
  },
  {
   "cell_type": "code",
   "execution_count": 259,
   "id": "caf66046",
   "metadata": {},
   "outputs": [],
   "source": [
    "fromList = []\n",
    "correctedSleepData = []\n",
    "for i in trimmedSleepData:\n",
    "    if 'from' in i.keys():\n",
    "        if i['from'] in fromList:\n",
    "            continue\n",
    "        else:\n",
    "            correctedSleepData.append(i)\n",
    "            fromList.append(i['from'])"
   ]
  },
  {
   "cell_type": "code",
   "execution_count": 260,
   "id": "b21f094a",
   "metadata": {},
   "outputs": [
    {
     "data": {
      "text/plain": [
       "[{'to': '2023-03-27 06:16:38',\n",
       "  'from': '2023-03-26 23:34:13',\n",
       "  'average heart rate': 68.8,\n",
       "  'average respiration rate': 14.2,\n",
       "  'maximum heart rate': 78,\n",
       "  'maximum respiration rate': 19,\n",
       "  'minimum heart rate': 53,\n",
       "  'minimum respiration rate': 6,\n",
       "  'duration': 24145,\n",
       "  'awakenings': 2,\n",
       "  'number of bed exits': 1,\n",
       "  'duration_awake': 2490,\n",
       "  'duration_in_bed': 24016,\n",
       "  'duration_in_rem': 5970,\n",
       "  'tossnturn_count': 11,\n",
       "  'bedexit_duration': 129,\n",
       "  'duration_in_deep': 3060,\n",
       "  'duration_in_light': 12630,\n",
       "  'duration_in_sleep': 21660,\n",
       "  'hrv_rmssd_evening': 14.5,\n",
       "  'hrv_rmssd_morning': 19,\n",
       "  'duration_sleep_onset': 750}]"
      ]
     },
     "metadata": {},
     "output_type": "display_data"
    }
   ],
   "source": [
    "display(trimmedSleepData)"
   ]
  },
  {
   "cell_type": "code",
   "execution_count": 270,
   "id": "0c5070cc",
   "metadata": {},
   "outputs": [
    {
     "name": "stdout",
     "output_type": "stream",
     "text": [
      "2023-03-27 06:16:38\n",
      "2023-03-26 23:34:13\n",
      "2023-03-27 : 6.016666666666667\n",
      "average sleep time : 6.02Hours\n",
      "average duration in bed : 6.67Hours\n",
      "average heart rate : 69\n",
      "average respiration rate : 15\n",
      "average bed exit count : 1\n",
      "Max bed Exits  : 1 on 2023-03-26\n",
      "Abnormality List :{'low respiratory rate': 'low Respiratory Rate of 6 on 2023-03-27 06:16:38', 'low sleep duration': 'Sleep duration was lower than usual (6.0 Hours ) on 2023-03-27 06:16:38'}\n"
     ]
    }
   ],
   "source": [
    "from statistics import mean\n",
    "import datetime\n",
    "from math import ceil\n",
    "\n",
    "AverageSleepDuration = []\n",
    "AverageTimeInBed = []\n",
    "AverageBedExitCount = []\n",
    "AverageHeartRate = []\n",
    "AverageRespirationRate = []\n",
    "AverageBestExitDuration = []\n",
    "AnamolyList = []\n",
    "SleepDurationByDay = {}\n",
    "inBedDuratonByDay = {}\n",
    "\n",
    "RiskList = {}\n",
    "MinAvgRespRate = 9\n",
    "MaxAvgRespRate = 25\n",
    "MinAvgHeartpRate = 50\n",
    "MaxAvgHeartRate = 100\n",
    "MinRespRate = 8\n",
    "MaxRespRate = 30\n",
    "MinHeartRate = 50\n",
    "MaxHeartRate = 100\n",
    "MaxBedExitDuration = 40\n",
    "MaxBedExitCount = 0\n",
    "MaxBedExitsOn = ''\n",
    "\n",
    "for row in trimmedSleepData:\n",
    "    if row and 'duration_in_sleep' in row.keys() and 'duration_in_bed' in row.keys() :\n",
    "        print(row['to'])\n",
    "        print(row['from'])\n",
    "\n",
    "        if row['to'][:10] in SleepDurationByDay.keys() and 'duration_in_sleep' in row.keys():\n",
    "            SleepDurationByDay[row['to'][:10]] = SleepDurationByDay[row['to'][:10]] + row['duration_in_sleep']\n",
    "        else:\n",
    "            SleepDurationByDay[row['to'][:10]] = row['duration_in_sleep']\n",
    "       \n",
    "            \n",
    "        if row['to'][:10] in inBedDuratonByDay.keys() and 'duration_in_bed' in row.keys():\n",
    "            inBedDuratonByDay[row['to'][:10]] = inBedDuratonByDay[row['to'][:10]] + row['duration_in_bed']\n",
    "        else:\n",
    "            inBedDuratonByDay[row['to'][:10]] = row['duration_in_bed']\n",
    "            \n",
    "        if 'number of bed exits' in row.keys() and 'average heart rate' in row.keys() and 'average respiration rate' in row.keys() and 'bedexit_duration' in row.keys():\n",
    "            if row['number of bed exits'] > MaxBedExitCount:\n",
    "                MaxBedExitCount = row['number of bed exits']\n",
    "                MaxBedExitsOn = str(row['from'][:10])\n",
    "            AverageBedExitCount.append(row['number of bed exits'])\n",
    "            AverageHeartRate.append(row['average heart rate'])\n",
    "            AverageRespirationRate.append(row['average respiration rate'])\n",
    "            AverageBestExitDuration.append(row['bedexit_duration'])\n",
    "    \n",
    "        if 'minimum respiration rate' in row.keys():\n",
    "            if row['average respiration rate'] < MinAvgRespRate:\n",
    "                MinAvgRespRate = row['average respiration rate']\n",
    "                RiskList['low average respiratory rate'] = \"low average Respiratory Rate of \" + str(MinAvgRespRate) + \" on \" + str(row['to'])\n",
    "                \n",
    "            if row['average heart rate'] < MinAvgHeartpRate:\n",
    "                MinAvgHeartpRate = row['average heart rate']\n",
    "                RiskList['high average heart rate'] = \"low average heart Rate of \" + str(MinAvgHeartRate) + \" on \" + str(row['to'])\n",
    "                \n",
    "            if row['average respiration rate'] > MaxAvgRespRate:\n",
    "                MaxAvgRespRate = row['average respiration rate']\n",
    "                RiskList['low average respiratory rate'] = \"high average Respiratory Rate of \" + str(MaxAvgRespRate) + \" on \" + str(row['to'])\n",
    "                \n",
    "            if row['average heart rate'] > MaxAvgHeartRate:\n",
    "                MaxAvgHeartpRate = row['average heart rate']\n",
    "                RiskList['high average heart rate'] = \"high average heart Rate of \" + str(MaxAvgHeartRate) + \" on \" + str(row['to'])\n",
    "        \n",
    "            if row['minimum respiration rate'] < MinRespRate:\n",
    "                MinRespRate = row['minimum respiration rate']\n",
    "                RiskList['low respiratory rate'] = \"low Respiratory Rate of \" + str(MinRespRate) + \" on \" + str(row['to'])\n",
    "        \n",
    "            if row['maximum respiration rate'] > MaxRespRate:\n",
    "                MaxRespRate = row['maximum respiration rate']\n",
    "                RiskList['high respiratory rate'] = \"high Respiratory Rate of \" + str(MaxRespRate) + \" on \" + str(row['to'][:10])\n",
    "        \n",
    "            if row['minimum heart rate'] < MinHeartRate:\n",
    "                MinHeartRate = row['minimum heart rate']\n",
    "                RiskList['low heart rate'] = \"very low Heart Rate of \" + str(MinHeartRate) + \" on \" + str(row['to'][:10])\n",
    "        \n",
    "            if row['maximum heart rate'] > MaxHeartRate:\n",
    "                MaxHeartRate = row['maximum heart rate']\n",
    "                RiskList['high heart rate'] = \"high Heart Rate of \" + str(MaxHeartRate) + \" on \" + str(row['to'][:10])\n",
    "        \n",
    "            if row['bedexit_duration']/60 > 30:\n",
    "                MaxBedExitDuration = \"{0:.2f}\".format(row['bedexit_duration']/60)\n",
    "                RiskList['Unusual bed exit duration'] = \"Unusually long bed exit duration of \" + str(MaxBedExitDuration) + \" minutes on \" + str(row['to'][:10])\n",
    "        \n",
    "            if row['duration_in_sleep']/3600 < 7:\n",
    "                RiskList['low sleep duration'] = \"Sleep duration was lower than usual (\" + str(\"{0:.1f}\".format(row['duration_in_sleep']/3600)) + \" Hours ) on \" + str(row['to'])\n",
    "                \n",
    "            if row['duration_in_sleep']/3600 > 12:\n",
    "                RiskList['high sleep duration'] = \"Sleep duration was higher than usual (\" + str(\"{0:.1f}\".format(row['duration_in_sleep']/3600)) + \" Hours ) on \" + str(row['to'])\n",
    "                \n",
    "for i in SleepDurationByDay.keys():\n",
    "    print(str(i) + \" : \" +  str(SleepDurationByDay[i]/3600))\n",
    "    \n",
    "print('average sleep time : ' + str(\"{0:.2f}\".format(mean(SleepDurationByDay.values())/3600)) + 'Hours')\n",
    "print('average duration in bed : ' + str(\"{0:.2f}\".format(mean(inBedDuratonByDay.values())/3600)) + 'Hours')\n",
    "print('average heart rate : ' +  str(ceil(mean(AverageHeartRate))))\n",
    "print('average respiration rate : ' +  str(ceil(mean(AverageRespirationRate))))\n",
    "print('average bed exit count : ' + str(ceil(mean(AverageBedExitCount))))\n",
    "print('Max bed Exits  : ' + str(MaxBedExitCount) + ' on ' + MaxBedExitsOn)\n",
    "print('Abnormality List :' + str(RiskList))\n",
    "\n",
    "postPrompt = 'average sleep time : ' + str(\"{0:.2f}\".format(mean(SleepDurationByDay.values())/3600)) + 'Hours' + \"\\n\" + 'average duration in bed : ' + str(\"{0:.2f}\".format(mean(inBedDuratonByDay.values())/3600)) + 'Hours' + \"\\n\" + 'average heart rate : ' +  str(ceil(mean(AverageHeartRate))) + \"\\n\" + 'average respiration rate : ' +  str(ceil(mean(AverageRespirationRate))) + \"\\n\" + 'average bed exit count : ' + str(ceil(mean(AverageBedExitCount))) + \"\\n\" +  'Max bed Exits  : ' + str(MaxBedExitCount) + ' on ' + MaxBedExitsOn + \"\\n\" + 'Abnormality List :' + str(RiskList) "
   ]
  },
  {
   "cell_type": "code",
   "execution_count": 262,
   "id": "2cf947cd",
   "metadata": {},
   "outputs": [
    {
     "data": {
      "text/plain": [
       "{'to': '2023-03-27 06:16:38',\n",
       " 'from': '2023-03-26 23:34:13',\n",
       " 'average heart rate': 68.8,\n",
       " 'average respiration rate': 14.2,\n",
       " 'maximum heart rate': 78,\n",
       " 'maximum respiration rate': 19,\n",
       " 'minimum heart rate': 53,\n",
       " 'minimum respiration rate': 6,\n",
       " 'duration': 24145,\n",
       " 'awakenings': 2,\n",
       " 'number of bed exits': 1,\n",
       " 'duration_awake': 2490,\n",
       " 'duration_in_bed': 24016,\n",
       " 'duration_in_rem': 5970,\n",
       " 'tossnturn_count': 11,\n",
       " 'bedexit_duration': 129,\n",
       " 'duration_in_deep': 3060,\n",
       " 'duration_in_light': 12630,\n",
       " 'duration_in_sleep': 21660,\n",
       " 'hrv_rmssd_evening': 14.5,\n",
       " 'hrv_rmssd_morning': 19,\n",
       " 'duration_sleep_onset': 750}"
      ]
     },
     "execution_count": 262,
     "metadata": {},
     "output_type": "execute_result"
    }
   ],
   "source": [
    "correctedSleepData[0]"
   ]
  },
  {
   "cell_type": "code",
   "execution_count": 263,
   "id": "fa244f69",
   "metadata": {},
   "outputs": [
    {
     "name": "stdout",
     "output_type": "stream",
     "text": [
      "2023-03-20 12:49:59.304989\n",
      "True\n"
     ]
    }
   ],
   "source": [
    "from dateutil.parser import parse\n",
    "import datetime\n",
    "dt = parse(trimmedSleepData[0]['to'])\n",
    "date = datetime.datetime.now() - datetime.timedelta(days=7)\n",
    "print(date)\n",
    "print(dt > date)"
   ]
  },
  {
   "cell_type": "code",
   "execution_count": 264,
   "id": "36a50f84",
   "metadata": {},
   "outputs": [
    {
     "data": {
      "text/plain": [
       "[{'to': '2023-03-27 06:16:38',\n",
       "  'from': '2023-03-26 23:34:13',\n",
       "  'average heart rate': 68.8,\n",
       "  'average respiration rate': 14.2,\n",
       "  'maximum heart rate': 78,\n",
       "  'maximum respiration rate': 19,\n",
       "  'minimum heart rate': 53,\n",
       "  'minimum respiration rate': 6,\n",
       "  'duration': 24145,\n",
       "  'awakenings': 2,\n",
       "  'number of bed exits': 1,\n",
       "  'duration_awake': 2490,\n",
       "  'duration_in_bed': 24016,\n",
       "  'duration_in_rem': 5970,\n",
       "  'tossnturn_count': 11,\n",
       "  'bedexit_duration': 129,\n",
       "  'duration_in_deep': 3060,\n",
       "  'duration_in_light': 12630,\n",
       "  'duration_in_sleep': 21660,\n",
       "  'hrv_rmssd_evening': 14.5,\n",
       "  'hrv_rmssd_morning': 19,\n",
       "  'duration_sleep_onset': 750}]"
      ]
     },
     "metadata": {},
     "output_type": "display_data"
    }
   ],
   "source": [
    "display(trimmedSleepData)"
   ]
  },
  {
   "cell_type": "markdown",
   "id": "0ee16798",
   "metadata": {},
   "source": [
    "Preparing Data for Fine tuning"
   ]
  },
  {
   "cell_type": "code",
   "execution_count": 215,
   "id": "97ce5abb",
   "metadata": {},
   "outputs": [
    {
     "name": "stdout",
     "output_type": "stream",
     "text": [
      "Requirement already satisfied: openai in /Users/nripeshpokala/opt/anaconda3/lib/python3.9/site-packages (0.27.2)\n",
      "Requirement already satisfied: tqdm in /Users/nripeshpokala/opt/anaconda3/lib/python3.9/site-packages (from openai) (4.64.1)\n",
      "Requirement already satisfied: aiohttp in /Users/nripeshpokala/opt/anaconda3/lib/python3.9/site-packages (from openai) (3.8.3)\n",
      "Requirement already satisfied: requests>=2.20 in /Users/nripeshpokala/opt/anaconda3/lib/python3.9/site-packages (from openai) (2.28.1)\n",
      "Requirement already satisfied: charset-normalizer<3,>=2 in /Users/nripeshpokala/opt/anaconda3/lib/python3.9/site-packages (from requests>=2.20->openai) (2.0.4)\n",
      "Requirement already satisfied: certifi>=2017.4.17 in /Users/nripeshpokala/opt/anaconda3/lib/python3.9/site-packages (from requests>=2.20->openai) (2022.9.24)\n",
      "Requirement already satisfied: idna<4,>=2.5 in /Users/nripeshpokala/opt/anaconda3/lib/python3.9/site-packages (from requests>=2.20->openai) (3.3)\n",
      "Requirement already satisfied: urllib3<1.27,>=1.21.1 in /Users/nripeshpokala/opt/anaconda3/lib/python3.9/site-packages (from requests>=2.20->openai) (1.26.11)\n",
      "Requirement already satisfied: multidict<7.0,>=4.5 in /Users/nripeshpokala/opt/anaconda3/lib/python3.9/site-packages (from aiohttp->openai) (6.0.4)\n",
      "Requirement already satisfied: yarl<2.0,>=1.0 in /Users/nripeshpokala/opt/anaconda3/lib/python3.9/site-packages (from aiohttp->openai) (1.8.2)\n",
      "Requirement already satisfied: async-timeout<5.0,>=4.0.0a3 in /Users/nripeshpokala/opt/anaconda3/lib/python3.9/site-packages (from aiohttp->openai) (4.0.2)\n",
      "Requirement already satisfied: attrs>=17.3.0 in /Users/nripeshpokala/opt/anaconda3/lib/python3.9/site-packages (from aiohttp->openai) (21.4.0)\n",
      "Requirement already satisfied: aiosignal>=1.1.2 in /Users/nripeshpokala/opt/anaconda3/lib/python3.9/site-packages (from aiohttp->openai) (1.3.1)\n",
      "Requirement already satisfied: frozenlist>=1.1.1 in /Users/nripeshpokala/opt/anaconda3/lib/python3.9/site-packages (from aiohttp->openai) (1.3.3)\n"
     ]
    }
   ],
   "source": [
    "!pip install --upgrade openai"
   ]
  },
  {
   "cell_type": "code",
   "execution_count": 220,
   "id": "6c894b4a",
   "metadata": {},
   "outputs": [],
   "source": [
    "import pandas as pd\n",
    "\n",
    "df = pd.read_csv('Book.csv')\n",
    "df.to_json(\"SleepDataFineTuning.jsonl\", orient='records', lines=True)"
   ]
  },
  {
   "cell_type": "code",
   "execution_count": 217,
   "id": "9a47b9a2",
   "metadata": {},
   "outputs": [
    {
     "name": "stdout",
     "output_type": "stream",
     "text": [
      "Analyzing...\n",
      "\n",
      "- Your file contains 10 prompt-completion pairs. In general, we recommend having at least a few hundred examples. We've found that performance tends to linearly increase for every doubling of the number of examples\n",
      "- All prompts end with suffix `'} `\n",
      "  WARNING: Some of your prompts contain the suffix `'} ` more than once. We strongly suggest that you review your prompts and add a unique suffix\n",
      "- All prompts start with prefix `average sleep time : `. Fine-tuning doesn't require the instruction specifying the task, or a few-shot example scenario. Most of the time you should only add the input data into the prompt, and the desired output into the completion\n",
      "- All completions start with prefix `The resident slept an average of `. Most of the time you should only add the output data into the completion, without any prefix\n",
      "- Your data does not contain a common ending at the end of your completions. Having a common ending string appended to the end of the completion makes it clearer to the fine-tuned model where the completion should end. See https://platform.openai.com/docs/guides/fine-tuning/preparing-your-dataset for more detail and examples.\n",
      "- The completion should start with a whitespace character (` `). This tends to produce better results due to the tokenization we use. See https://platform.openai.com/docs/guides/fine-tuning/preparing-your-dataset for more details\n",
      "\n",
      "Based on the analysis we will perform the following actions:\n",
      "- [Recommended] Remove prefix `average sleep time : ` from all prompts [Y/n]: Y\n",
      "- [Recommended] Remove prefix `The resident slept an average of ` from all completions [Y/n]: Y\n",
      "- [Recommended] Add a suffix ending ` END` to all completions [Y/n]: Y\n",
      "- [Recommended] Add a whitespace character to the beginning of the completion [Y/n]: Y\n",
      "\n",
      "\n",
      "Your data will be written to a new JSONL file. Proceed [Y/n]: Y\n",
      "\n",
      "Wrote modified file to `FineTuning_prepared.jsonl`\n",
      "Feel free to take a look!\n",
      "\n",
      "Now use that file when fine-tuning:\n",
      "> openai api fine_tunes.create -t \"FineTuning_prepared.jsonl\"\n",
      "\n",
      "After you’ve fine-tuned a model, remember that your prompt has to end with the indicator string `'} ` for the model to start generating completions, rather than continuing with the prompt. Make sure to include `stop=[\" END\"]` so that the generated texts ends at the expected place.\n",
      "Once your model starts training, it'll approximately take 2.58 minutes to train a `curie` model, and less for `ada` and `babbage`. Queue will approximately take half an hour per job ahead of you.\n"
     ]
    }
   ],
   "source": [
    "import os\n",
    "import openai\n",
    "openai.api_key = os.getenv(environmentVariables.OPENAI_API_KEY)\n",
    "!openai tools fine_tunes.prepare_data -f SleepDataFineTuning.jsonl -q\n",
    "#!openai api fine_tunes.create -t <TRAIN_FILE_ID_OR_PATH> -m davinci"
   ]
  },
  {
   "cell_type": "code",
   "execution_count": 226,
   "id": "e7bb1865",
   "metadata": {},
   "outputs": [
    {
     "name": "stdout",
     "output_type": "stream",
     "text": [
      "Found potentially duplicated files with name 'SleepDataFineTuning.jsonl', purpose 'fine-tune' and size 14337 bytes\n",
      "file-xghVXarEzWT7YrCFmFsHJHrI\n",
      "Enter file ID to reuse an already uploaded file, or an empty string to upload this file anyway: ^C\n",
      "\n"
     ]
    }
   ],
   "source": [
    "!openai api fine_tunes.create -t \"SleepDataFineTuning.jsonl\" -m davinci \n"
   ]
  },
  {
   "cell_type": "code",
   "execution_count": 228,
   "id": "a446a04e",
   "metadata": {},
   "outputs": [
    {
     "name": "stdout",
     "output_type": "stream",
     "text": [
      "[2023-03-23 14:34:47] Created fine-tune: ft-Qp3XcUtQKv5Vjn7OqO7nhvjt\n",
      "[2023-03-23 14:38:18] Fine-tune costs $0.44\n",
      "[2023-03-23 14:38:19] Fine-tune enqueued. Queue number: 3\n",
      "[2023-03-23 14:38:36] Fine-tune is in the queue. Queue number: 2\n",
      "[2023-03-23 14:39:30] Fine-tune is in the queue. Queue number: 1\n",
      "[2023-03-23 14:40:08] Fine-tune is in the queue. Queue number: 0\n",
      "[2023-03-23 14:41:15] Fine-tune started\n",
      "[2023-03-23 14:42:52] Completed epoch 1/4\n",
      "[2023-03-23 14:42:59] Completed epoch 2/4\n",
      "[2023-03-23 14:43:05] Completed epoch 3/4\n",
      "[2023-03-23 14:43:10] Completed epoch 4/4\n",
      "[2023-03-23 14:43:58] Uploaded model: davinci:ft-care-life-inc-2023-03-23-20-43-58\n",
      "[2023-03-23 14:43:59] Uploaded result file: file-TNJwclREiq7Lu2qTSyUihx6z\n",
      "[2023-03-23 14:43:59] Fine-tune succeeded\n",
      "\n",
      "Job complete! Status: succeeded 🎉\n",
      "Try out your fine-tuned model:\n",
      "\n",
      "openai api completions.create -m davinci:ft-care-life-inc-2023-03-23-20-43-58 -p <YOUR_PROMPT>\n"
     ]
    }
   ],
   "source": [
    "!openai api fine_tunes.follow -i ft-Qp3XcUtQKv5Vjn7OqO7nhvjt"
   ]
  },
  {
   "cell_type": "code",
   "execution_count": 265,
   "id": "cdc3464a",
   "metadata": {},
   "outputs": [
    {
     "name": "stdout",
     "output_type": "stream",
     "text": [
      "Generate a human-readable sleep summary report from the following sleep data from an elderly adult average sleep time : 11.13Hours average duration in bed : 11.87Hours average heart rate : 61.78 average respiration rate : 14.76 average bed exit count : 4.44 Abnormality List :{'low Respiratory Rate': 'low Respiratory Rate of 7 on 2023-02-22 21:59:54', 'high Respiratory Rate': '', 'low Heart Rate': 'very low Heart Rate of 39 on 2023-02-22', 'high heart Rate': 'high Heart Rate of 122 on 2023-02-24', 'Unusual bed exit duration': 'Unusually long bed exit duration of 51.62 minutes on 2023-02-27', 'duration_in_sleep': 'Sleep duration was lower than usual on 2023-02-22 21:59:54'}} Sleep Quality Summary : ( Average Sleep Quality : Normal ) Overall Sleep pattern is"
     ]
    }
   ],
   "source": [
    "\n",
    "import openai\n",
    "import os\n",
    "os.environ[\"OPENAI_API_KEY\"] = careLifeSecrets.OPENAI_API_KEY\n",
    "!openai api completions.create -m davinci:ft-care-life-inc-2023-02-27-23-54-36 -p \"Generate a human-readable sleep summary report from the following sleep data from an elderly adult average sleep time : 11.13Hours average duration in bed : 11.87Hours average heart rate : 61.78 average respiration rate : 14.76 average bed exit count : 4.44 Abnormality List :{'low Respiratory Rate': 'low Respiratory Rate of 7 on 2023-02-22 21:59:54', 'high Respiratory Rate': '', 'low Heart Rate': 'very low Heart Rate of 39 on 2023-02-22', 'high heart Rate': 'high Heart Rate of 122 on 2023-02-24', 'Unusual bed exit duration': 'Unusually long bed exit duration of 51.62 minutes on 2023-02-27', 'duration_in_sleep': 'Sleep duration was lower than usual on 2023-02-22 21:59:54'}\"\n"
   ]
  },
  {
   "cell_type": "code",
   "execution_count": 279,
   "id": "e90b4eac",
   "metadata": {},
   "outputs": [],
   "source": [
    "ft_model = 'davinci:ft-care-life-inc-2023-03-23-20-43-58'\n",
    "openai.api_key = careLifeSecrets.OPENAI_API_KEY\n",
    "\n",
    "prePrompt = \"average sleep time : 14.7 Hours average duration in bed : 15.6Hours average heart rate : 53.9 average respiration rate : 20.8 average bed exit count : 1.5 Max bed Exits : 3 on 2023-03-15 Abnormality List :{'low Respiratory Rate': 'low Respiratory Rate of 5 on 2023-03-21 13:03:39', 'high Respiratory Rate': '', 'low Heart Rate': 'very low Heart Rate of 38 on 2023-03-17', 'high heart Rate': '', 'Unusual bed exit duration': '', 'duration_in_sleep': 'Sleep duration was lower than usual(5.11 Hours ) on 2023-03-18 06:17:48'} \\n The resident slept an average of 14.7 hours a day over the past week which is above the recommended range of 7-12 hours. Additionally, they spent an average of 15.6 hours per day in their bed. On Saturday, March 18th the sleep duration was 5 hours which is lower than the recommended range. The resident exited the bed 1.5 times per night with the most bed exits occurring on Wednesday, March 15th with a total of 3. The heart rate throughout the week averaged 53.9 beats per minute which falls within the normal range of 50-100 beats per minute for an elderly adult. On Friday, March 17th the resident’s heart rate was at its lowest reaching 38 beats per minute. The respiratory rate throughout the week averaged at 20.8 breaths per minute, which is within the normal range of 8-30. On Tuesday, March 21st the resident’s respiratory rate was at its lowest reaching 5 breaths per minute. ------------------------------------------------------------------------------------------------------------------ \\n average sleep time : 7.7Hours average duration in bed : 10.0Hours average heart rate : 62.6 average respiration rate : 13.4 average bed exit count : 1.1 Max bed Exits : 3 on 2023-03-20 Abnormality List :{'low Respiratory Rate': 'low Respiratory Rate of 4 on 2023-03-21 12:29:48', 'low Heart Rate': 'very low Heart Rate of 39 on 2023-03-16', 'low sleep duration': 'Sleep duration was lower than usual( 3 hours ) on 2023-03-19 10:22:49'} \\n The resident slept an average of 7.7 hours a day over the past week which is within the recommended range of 7-12 hours. Additionally, they spent an average of 10 hours per day in their bed. On Saturday, March 18th the sleep duration was 3 hours which is lower than the recommended range. \\n The resident exited the bed 1.1 times per night with the most bed exits occurring on Monday, March 20th with a total of 3. \\n The heart rate throughout the week averaged at 62.6 beats per minute which is within the normal range of 50-100 beats per minute for an elderly adult. Thursday, March 16th the resident’s heart rate was at its lowest reaching 39 beats per minute. \\n The respiratory rate throughout the week averaged at 13.4 breaths per minute, which is within the normal range of 8-30. On Tuesday, March 21st the resident’s respiratory rate was at its lowest reaching 4 breaths per minute. \\n ----------------------------------------------------------------------------------------------------------------- \\n average sleep time : 8.8Hours average duration in bed : 9.4Hours average heart rate : 63.2 average respiration rate : 14.7 average bed exit count : 0.0 Max bed Exits : 0 on Abnormality List :{'low Respiratory Rate': 'low Respiratory Rate of 6 on 2023-03-16 12:54:12', 'low Heart Rate': 'very low Heart Rate of 39 on 2023-03-19', 'low sleep duration': 'Sleep duration was lower than usual(4) on 2023-03-22 06:02:55', 'high heart Rate': 'high Heart Rate of 125 on 2023-03-22'} 22 06:02:55', 'high heart Rate': 'high Heart Rate of 125 on 2023-03-22'} \\n The resident slept an average of 8.8 hours a day over the past week which is within the recommended range of 7-12 hours. Additionally, they spent an average of 9.4 hours per day in their bed. On Sunday, March 22nd the sleep duration was 4 hours which is lower than the recommended range. \\n The resident slept well and did not exit the bed during their sleep this week. \\n The heart rate throughout the week averaged at 63.2 beats per minute which is within the normal range of 50-100 beats per minute for an elderly adult. On Tuesday, March 19th the resident’s heart rate was at its lowest reaching 39 beats per minute. On Sunday, March 22nd the heart rate was at its highest reaching 125 beats per minute. \\n The respiratory rate throughout the week averaged 14.7 breaths per minute, which is within the normal range of 8-30. On Monday, March 16th the resident’s respiratory rate was at its lowest reaching 6 breaths per minute.\"\n",
    "res = openai.Completion.create(model=ft_model, prompt = prePrompt + postPrompt + '\\n\\n###\\n\\n', max_tokens=300, temperature=0)"
   ]
  },
  {
   "cell_type": "code",
   "execution_count": 280,
   "id": "6e67edb6",
   "metadata": {},
   "outputs": [
    {
     "name": "stdout",
     "output_type": "stream",
     "text": [
      "\n",
      "\n",
      "The resident slept an average of 6.02 hours a day over the past week which is within the recommended range of 7-12 hours. Additionally, they spent an average of 6.67 hours per day in their bed. On Wednesday, March 27th the sleep duration was 6 hours which is lower than the recommended range. The resident exited the bed 1 time per night with the most bed exits occurring on Tuesday, March 26th with a total of 1. The heart rate throughout the week averaged at 69 beats per minute which is within the normal range of 50-100 beats per minute for an elderly adult. On Wednesday, March 27th the resident’s heart rate was at its lowest reaching 39 beats per minute. The respiratory rate throughout the week averaged at 15 breaths per minute, which is within the normal range of 8-30. On Wednesday, March 27th the resident’s respiratory rate was at its lowest reaching 6 breaths per minute.\n",
      "\n",
      "The sleep efficiency for this week was at 100% which is within the normal range of 85-110%. On Wednesday, March 27th the sleep efficiency was at its lowest reaching 85%.\n",
      "\n",
      "The sleep pattern was consistent throughout the week with the resident sleeping an average of 6.0 hours per day.\n",
      "\n",
      "The resident slept well and did not exit the bed during their sleep this week.\n",
      "\n",
      "The heart rate throughout the week averaged at 69 beats per minute which is within the normal range of 50-100 beats\n"
     ]
    }
   ],
   "source": [
    "print(res[\"choices\"][0][\"text\"])"
   ]
  },
  {
   "cell_type": "markdown",
   "id": "171d5f52",
   "metadata": {},
   "source": [
    "\n"
   ]
  },
  {
   "cell_type": "code",
   "execution_count": 276,
   "id": "3b67355a",
   "metadata": {},
   "outputs": [
    {
     "name": "stdout",
     "output_type": "stream",
     "text": [
      "average sleep time : 6.02Hours\n",
      "average duration in bed : 6.67Hours\n",
      "average heart rate : 69\n",
      "average respiration rate : 15\n",
      "average bed exit count : 1\n",
      "Max bed Exits  : 1 on 2023-03-26\n",
      "Abnormality List :{'low respiratory rate': 'low Respiratory Rate of 6 on 2023-03-27 06:16:38', 'low sleep duration': 'Sleep duration was lower than usual (6.0 Hours ) on 2023-03-27 06:16:38'}\n"
     ]
    }
   ],
   "source": [
    "print(postPrompt)"
   ]
  },
  {
   "cell_type": "code",
   "execution_count": null,
   "id": "bea0c0af",
   "metadata": {},
   "outputs": [],
   "source": []
  }
 ],
 "metadata": {
  "kernelspec": {
   "display_name": "Python 3 (ipykernel)",
   "language": "python",
   "name": "python3"
  },
  "language_info": {
   "codemirror_mode": {
    "name": "ipython",
    "version": 3
   },
   "file_extension": ".py",
   "mimetype": "text/x-python",
   "name": "python",
   "nbconvert_exporter": "python",
   "pygments_lexer": "ipython3",
   "version": "3.9.13"
  }
 },
 "nbformat": 4,
 "nbformat_minor": 5
}
